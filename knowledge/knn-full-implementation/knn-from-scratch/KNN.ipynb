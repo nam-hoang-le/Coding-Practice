{
 "cells": [
  {
   "cell_type": "markdown",
   "metadata": {},
   "source": [
    "# Load data"
   ]
  },
  {
   "cell_type": "code",
   "execution_count": 1,
   "metadata": {},
   "outputs": [],
   "source": [
    "import pandas as pd "
   ]
  },
  {
   "cell_type": "code",
   "execution_count": 2,
   "metadata": {},
   "outputs": [],
   "source": [
    "path = './iris.csv'"
   ]
  },
  {
   "cell_type": "code",
   "execution_count": 3,
   "metadata": {},
   "outputs": [],
   "source": [
    "iris = pd.read_csv(path)"
   ]
  },
  {
   "cell_type": "markdown",
   "metadata": {},
   "source": [
    "### Check data"
   ]
  },
  {
   "cell_type": "code",
   "execution_count": 4,
   "metadata": {},
   "outputs": [
    {
     "data": {
      "text/html": [
       "<div>\n",
       "<style scoped>\n",
       "    .dataframe tbody tr th:only-of-type {\n",
       "        vertical-align: middle;\n",
       "    }\n",
       "\n",
       "    .dataframe tbody tr th {\n",
       "        vertical-align: top;\n",
       "    }\n",
       "\n",
       "    .dataframe thead th {\n",
       "        text-align: right;\n",
       "    }\n",
       "</style>\n",
       "<table border=\"1\" class=\"dataframe\">\n",
       "  <thead>\n",
       "    <tr style=\"text-align: right;\">\n",
       "      <th></th>\n",
       "      <th>5.1</th>\n",
       "      <th>3.5</th>\n",
       "      <th>1.4</th>\n",
       "      <th>0.2</th>\n",
       "      <th>Iris-setosa</th>\n",
       "    </tr>\n",
       "  </thead>\n",
       "  <tbody>\n",
       "    <tr>\n",
       "      <th>0</th>\n",
       "      <td>4.9</td>\n",
       "      <td>3.0</td>\n",
       "      <td>1.4</td>\n",
       "      <td>0.2</td>\n",
       "      <td>Iris-setosa</td>\n",
       "    </tr>\n",
       "    <tr>\n",
       "      <th>1</th>\n",
       "      <td>4.7</td>\n",
       "      <td>3.2</td>\n",
       "      <td>1.3</td>\n",
       "      <td>0.2</td>\n",
       "      <td>Iris-setosa</td>\n",
       "    </tr>\n",
       "    <tr>\n",
       "      <th>2</th>\n",
       "      <td>4.6</td>\n",
       "      <td>3.1</td>\n",
       "      <td>1.5</td>\n",
       "      <td>0.2</td>\n",
       "      <td>Iris-setosa</td>\n",
       "    </tr>\n",
       "    <tr>\n",
       "      <th>3</th>\n",
       "      <td>5.0</td>\n",
       "      <td>3.6</td>\n",
       "      <td>1.4</td>\n",
       "      <td>0.2</td>\n",
       "      <td>Iris-setosa</td>\n",
       "    </tr>\n",
       "    <tr>\n",
       "      <th>4</th>\n",
       "      <td>5.4</td>\n",
       "      <td>3.9</td>\n",
       "      <td>1.7</td>\n",
       "      <td>0.4</td>\n",
       "      <td>Iris-setosa</td>\n",
       "    </tr>\n",
       "  </tbody>\n",
       "</table>\n",
       "</div>"
      ],
      "text/plain": [
       "   5.1  3.5  1.4  0.2  Iris-setosa\n",
       "0  4.9  3.0  1.4  0.2  Iris-setosa\n",
       "1  4.7  3.2  1.3  0.2  Iris-setosa\n",
       "2  4.6  3.1  1.5  0.2  Iris-setosa\n",
       "3  5.0  3.6  1.4  0.2  Iris-setosa\n",
       "4  5.4  3.9  1.7  0.4  Iris-setosa"
      ]
     },
     "execution_count": 4,
     "metadata": {},
     "output_type": "execute_result"
    }
   ],
   "source": [
    "iris.head()"
   ]
  },
  {
   "cell_type": "markdown",
   "metadata": {},
   "source": [
    "# Data preparation"
   ]
  },
  {
   "cell_type": "markdown",
   "metadata": {},
   "source": [
    "### Add header row for the dataset"
   ]
  },
  {
   "cell_type": "code",
   "execution_count": 5,
   "metadata": {},
   "outputs": [
    {
     "data": {
      "text/html": [
       "<div>\n",
       "<style scoped>\n",
       "    .dataframe tbody tr th:only-of-type {\n",
       "        vertical-align: middle;\n",
       "    }\n",
       "\n",
       "    .dataframe tbody tr th {\n",
       "        vertical-align: top;\n",
       "    }\n",
       "\n",
       "    .dataframe thead th {\n",
       "        text-align: right;\n",
       "    }\n",
       "</style>\n",
       "<table border=\"1\" class=\"dataframe\">\n",
       "  <thead>\n",
       "    <tr style=\"text-align: right;\">\n",
       "      <th></th>\n",
       "      <th>Sepal length</th>\n",
       "      <th>Sepal width</th>\n",
       "      <th>Petal length</th>\n",
       "      <th>Petal width</th>\n",
       "      <th>Class</th>\n",
       "    </tr>\n",
       "  </thead>\n",
       "  <tbody>\n",
       "    <tr>\n",
       "      <th>0</th>\n",
       "      <td>5.1</td>\n",
       "      <td>3.5</td>\n",
       "      <td>1.4</td>\n",
       "      <td>0.2</td>\n",
       "      <td>Iris-setosa</td>\n",
       "    </tr>\n",
       "    <tr>\n",
       "      <th>1</th>\n",
       "      <td>4.9</td>\n",
       "      <td>3.0</td>\n",
       "      <td>1.4</td>\n",
       "      <td>0.2</td>\n",
       "      <td>Iris-setosa</td>\n",
       "    </tr>\n",
       "    <tr>\n",
       "      <th>2</th>\n",
       "      <td>4.7</td>\n",
       "      <td>3.2</td>\n",
       "      <td>1.3</td>\n",
       "      <td>0.2</td>\n",
       "      <td>Iris-setosa</td>\n",
       "    </tr>\n",
       "    <tr>\n",
       "      <th>3</th>\n",
       "      <td>4.6</td>\n",
       "      <td>3.1</td>\n",
       "      <td>1.5</td>\n",
       "      <td>0.2</td>\n",
       "      <td>Iris-setosa</td>\n",
       "    </tr>\n",
       "    <tr>\n",
       "      <th>4</th>\n",
       "      <td>5.0</td>\n",
       "      <td>3.6</td>\n",
       "      <td>1.4</td>\n",
       "      <td>0.2</td>\n",
       "      <td>Iris-setosa</td>\n",
       "    </tr>\n",
       "    <tr>\n",
       "      <th>...</th>\n",
       "      <td>...</td>\n",
       "      <td>...</td>\n",
       "      <td>...</td>\n",
       "      <td>...</td>\n",
       "      <td>...</td>\n",
       "    </tr>\n",
       "    <tr>\n",
       "      <th>145</th>\n",
       "      <td>6.7</td>\n",
       "      <td>3.0</td>\n",
       "      <td>5.2</td>\n",
       "      <td>2.3</td>\n",
       "      <td>Iris-virginica</td>\n",
       "    </tr>\n",
       "    <tr>\n",
       "      <th>146</th>\n",
       "      <td>6.3</td>\n",
       "      <td>2.5</td>\n",
       "      <td>5.0</td>\n",
       "      <td>1.9</td>\n",
       "      <td>Iris-virginica</td>\n",
       "    </tr>\n",
       "    <tr>\n",
       "      <th>147</th>\n",
       "      <td>6.5</td>\n",
       "      <td>3.0</td>\n",
       "      <td>5.2</td>\n",
       "      <td>2.0</td>\n",
       "      <td>Iris-virginica</td>\n",
       "    </tr>\n",
       "    <tr>\n",
       "      <th>148</th>\n",
       "      <td>6.2</td>\n",
       "      <td>3.4</td>\n",
       "      <td>5.4</td>\n",
       "      <td>2.3</td>\n",
       "      <td>Iris-virginica</td>\n",
       "    </tr>\n",
       "    <tr>\n",
       "      <th>149</th>\n",
       "      <td>5.9</td>\n",
       "      <td>3.0</td>\n",
       "      <td>5.1</td>\n",
       "      <td>1.8</td>\n",
       "      <td>Iris-virginica</td>\n",
       "    </tr>\n",
       "  </tbody>\n",
       "</table>\n",
       "<p>150 rows × 5 columns</p>\n",
       "</div>"
      ],
      "text/plain": [
       "     Sepal length  Sepal width  Petal length  Petal width           Class\n",
       "0             5.1          3.5           1.4          0.2     Iris-setosa\n",
       "1             4.9          3.0           1.4          0.2     Iris-setosa\n",
       "2             4.7          3.2           1.3          0.2     Iris-setosa\n",
       "3             4.6          3.1           1.5          0.2     Iris-setosa\n",
       "4             5.0          3.6           1.4          0.2     Iris-setosa\n",
       "..            ...          ...           ...          ...             ...\n",
       "145           6.7          3.0           5.2          2.3  Iris-virginica\n",
       "146           6.3          2.5           5.0          1.9  Iris-virginica\n",
       "147           6.5          3.0           5.2          2.0  Iris-virginica\n",
       "148           6.2          3.4           5.4          2.3  Iris-virginica\n",
       "149           5.9          3.0           5.1          1.8  Iris-virginica\n",
       "\n",
       "[150 rows x 5 columns]"
      ]
     },
     "execution_count": 5,
     "metadata": {},
     "output_type": "execute_result"
    }
   ],
   "source": [
    "column_names=[\"Sepal length\",\"Sepal width\",'Petal length', 'Petal width', 'Class']\n",
    "\n",
    "iris = pd.read_csv(path, names=column_names)\n",
    "iris"
   ]
  },
  {
   "cell_type": "markdown",
   "metadata": {},
   "source": [
    "### Change class label to 0, 1 and 2"
   ]
  },
  {
   "cell_type": "code",
   "execution_count": 6,
   "metadata": {},
   "outputs": [
    {
     "name": "stderr",
     "output_type": "stream",
     "text": [
      "C:\\Users\\Nam\\AppData\\Local\\Temp\\ipykernel_20672\\3818676332.py:1: FutureWarning: A value is trying to be set on a copy of a DataFrame or Series through chained assignment using an inplace method.\n",
      "The behavior will change in pandas 3.0. This inplace method will never work because the intermediate object on which we are setting values always behaves as a copy.\n",
      "\n",
      "For example, when doing 'df[col].method(value, inplace=True)', try using 'df.method({col: value}, inplace=True)' or df[col] = df[col].method(value) instead, to perform the operation inplace on the original object.\n",
      "\n",
      "\n",
      "  iris['Class'].replace(['Iris-setosa','Iris-versicolor','Iris-virginica'], [0, 1, 2], inplace=True)\n",
      "C:\\Users\\Nam\\AppData\\Local\\Temp\\ipykernel_20672\\3818676332.py:1: FutureWarning: Downcasting behavior in `replace` is deprecated and will be removed in a future version. To retain the old behavior, explicitly call `result.infer_objects(copy=False)`. To opt-in to the future behavior, set `pd.set_option('future.no_silent_downcasting', True)`\n",
      "  iris['Class'].replace(['Iris-setosa','Iris-versicolor','Iris-virginica'], [0, 1, 2], inplace=True)\n"
     ]
    },
    {
     "data": {
      "text/html": [
       "<div>\n",
       "<style scoped>\n",
       "    .dataframe tbody tr th:only-of-type {\n",
       "        vertical-align: middle;\n",
       "    }\n",
       "\n",
       "    .dataframe tbody tr th {\n",
       "        vertical-align: top;\n",
       "    }\n",
       "\n",
       "    .dataframe thead th {\n",
       "        text-align: right;\n",
       "    }\n",
       "</style>\n",
       "<table border=\"1\" class=\"dataframe\">\n",
       "  <thead>\n",
       "    <tr style=\"text-align: right;\">\n",
       "      <th></th>\n",
       "      <th>Sepal length</th>\n",
       "      <th>Sepal width</th>\n",
       "      <th>Petal length</th>\n",
       "      <th>Petal width</th>\n",
       "      <th>Class</th>\n",
       "    </tr>\n",
       "  </thead>\n",
       "  <tbody>\n",
       "    <tr>\n",
       "      <th>0</th>\n",
       "      <td>5.1</td>\n",
       "      <td>3.5</td>\n",
       "      <td>1.4</td>\n",
       "      <td>0.2</td>\n",
       "      <td>0</td>\n",
       "    </tr>\n",
       "    <tr>\n",
       "      <th>1</th>\n",
       "      <td>4.9</td>\n",
       "      <td>3.0</td>\n",
       "      <td>1.4</td>\n",
       "      <td>0.2</td>\n",
       "      <td>0</td>\n",
       "    </tr>\n",
       "    <tr>\n",
       "      <th>2</th>\n",
       "      <td>4.7</td>\n",
       "      <td>3.2</td>\n",
       "      <td>1.3</td>\n",
       "      <td>0.2</td>\n",
       "      <td>0</td>\n",
       "    </tr>\n",
       "    <tr>\n",
       "      <th>3</th>\n",
       "      <td>4.6</td>\n",
       "      <td>3.1</td>\n",
       "      <td>1.5</td>\n",
       "      <td>0.2</td>\n",
       "      <td>0</td>\n",
       "    </tr>\n",
       "    <tr>\n",
       "      <th>4</th>\n",
       "      <td>5.0</td>\n",
       "      <td>3.6</td>\n",
       "      <td>1.4</td>\n",
       "      <td>0.2</td>\n",
       "      <td>0</td>\n",
       "    </tr>\n",
       "    <tr>\n",
       "      <th>...</th>\n",
       "      <td>...</td>\n",
       "      <td>...</td>\n",
       "      <td>...</td>\n",
       "      <td>...</td>\n",
       "      <td>...</td>\n",
       "    </tr>\n",
       "    <tr>\n",
       "      <th>145</th>\n",
       "      <td>6.7</td>\n",
       "      <td>3.0</td>\n",
       "      <td>5.2</td>\n",
       "      <td>2.3</td>\n",
       "      <td>2</td>\n",
       "    </tr>\n",
       "    <tr>\n",
       "      <th>146</th>\n",
       "      <td>6.3</td>\n",
       "      <td>2.5</td>\n",
       "      <td>5.0</td>\n",
       "      <td>1.9</td>\n",
       "      <td>2</td>\n",
       "    </tr>\n",
       "    <tr>\n",
       "      <th>147</th>\n",
       "      <td>6.5</td>\n",
       "      <td>3.0</td>\n",
       "      <td>5.2</td>\n",
       "      <td>2.0</td>\n",
       "      <td>2</td>\n",
       "    </tr>\n",
       "    <tr>\n",
       "      <th>148</th>\n",
       "      <td>6.2</td>\n",
       "      <td>3.4</td>\n",
       "      <td>5.4</td>\n",
       "      <td>2.3</td>\n",
       "      <td>2</td>\n",
       "    </tr>\n",
       "    <tr>\n",
       "      <th>149</th>\n",
       "      <td>5.9</td>\n",
       "      <td>3.0</td>\n",
       "      <td>5.1</td>\n",
       "      <td>1.8</td>\n",
       "      <td>2</td>\n",
       "    </tr>\n",
       "  </tbody>\n",
       "</table>\n",
       "<p>150 rows × 5 columns</p>\n",
       "</div>"
      ],
      "text/plain": [
       "     Sepal length  Sepal width  Petal length  Petal width  Class\n",
       "0             5.1          3.5           1.4          0.2      0\n",
       "1             4.9          3.0           1.4          0.2      0\n",
       "2             4.7          3.2           1.3          0.2      0\n",
       "3             4.6          3.1           1.5          0.2      0\n",
       "4             5.0          3.6           1.4          0.2      0\n",
       "..            ...          ...           ...          ...    ...\n",
       "145           6.7          3.0           5.2          2.3      2\n",
       "146           6.3          2.5           5.0          1.9      2\n",
       "147           6.5          3.0           5.2          2.0      2\n",
       "148           6.2          3.4           5.4          2.3      2\n",
       "149           5.9          3.0           5.1          1.8      2\n",
       "\n",
       "[150 rows x 5 columns]"
      ]
     },
     "execution_count": 6,
     "metadata": {},
     "output_type": "execute_result"
    }
   ],
   "source": [
    "iris['Class'].replace(['Iris-setosa','Iris-versicolor','Iris-virginica'], [0, 1, 2], inplace=True)\n",
    "iris "
   ]
  },
  {
   "cell_type": "markdown",
   "metadata": {},
   "source": [
    "### Change all values from string to float"
   ]
  },
  {
   "cell_type": "code",
   "execution_count": 7,
   "metadata": {},
   "outputs": [
    {
     "data": {
      "text/html": [
       "<div>\n",
       "<style scoped>\n",
       "    .dataframe tbody tr th:only-of-type {\n",
       "        vertical-align: middle;\n",
       "    }\n",
       "\n",
       "    .dataframe tbody tr th {\n",
       "        vertical-align: top;\n",
       "    }\n",
       "\n",
       "    .dataframe thead th {\n",
       "        text-align: right;\n",
       "    }\n",
       "</style>\n",
       "<table border=\"1\" class=\"dataframe\">\n",
       "  <thead>\n",
       "    <tr style=\"text-align: right;\">\n",
       "      <th></th>\n",
       "      <th>Sepal length</th>\n",
       "      <th>Sepal width</th>\n",
       "      <th>Petal length</th>\n",
       "      <th>Petal width</th>\n",
       "      <th>Class</th>\n",
       "    </tr>\n",
       "  </thead>\n",
       "  <tbody>\n",
       "    <tr>\n",
       "      <th>0</th>\n",
       "      <td>5.1</td>\n",
       "      <td>3.5</td>\n",
       "      <td>1.4</td>\n",
       "      <td>0.2</td>\n",
       "      <td>0.0</td>\n",
       "    </tr>\n",
       "    <tr>\n",
       "      <th>1</th>\n",
       "      <td>4.9</td>\n",
       "      <td>3.0</td>\n",
       "      <td>1.4</td>\n",
       "      <td>0.2</td>\n",
       "      <td>0.0</td>\n",
       "    </tr>\n",
       "    <tr>\n",
       "      <th>2</th>\n",
       "      <td>4.7</td>\n",
       "      <td>3.2</td>\n",
       "      <td>1.3</td>\n",
       "      <td>0.2</td>\n",
       "      <td>0.0</td>\n",
       "    </tr>\n",
       "    <tr>\n",
       "      <th>3</th>\n",
       "      <td>4.6</td>\n",
       "      <td>3.1</td>\n",
       "      <td>1.5</td>\n",
       "      <td>0.2</td>\n",
       "      <td>0.0</td>\n",
       "    </tr>\n",
       "    <tr>\n",
       "      <th>4</th>\n",
       "      <td>5.0</td>\n",
       "      <td>3.6</td>\n",
       "      <td>1.4</td>\n",
       "      <td>0.2</td>\n",
       "      <td>0.0</td>\n",
       "    </tr>\n",
       "    <tr>\n",
       "      <th>...</th>\n",
       "      <td>...</td>\n",
       "      <td>...</td>\n",
       "      <td>...</td>\n",
       "      <td>...</td>\n",
       "      <td>...</td>\n",
       "    </tr>\n",
       "    <tr>\n",
       "      <th>145</th>\n",
       "      <td>6.7</td>\n",
       "      <td>3.0</td>\n",
       "      <td>5.2</td>\n",
       "      <td>2.3</td>\n",
       "      <td>2.0</td>\n",
       "    </tr>\n",
       "    <tr>\n",
       "      <th>146</th>\n",
       "      <td>6.3</td>\n",
       "      <td>2.5</td>\n",
       "      <td>5.0</td>\n",
       "      <td>1.9</td>\n",
       "      <td>2.0</td>\n",
       "    </tr>\n",
       "    <tr>\n",
       "      <th>147</th>\n",
       "      <td>6.5</td>\n",
       "      <td>3.0</td>\n",
       "      <td>5.2</td>\n",
       "      <td>2.0</td>\n",
       "      <td>2.0</td>\n",
       "    </tr>\n",
       "    <tr>\n",
       "      <th>148</th>\n",
       "      <td>6.2</td>\n",
       "      <td>3.4</td>\n",
       "      <td>5.4</td>\n",
       "      <td>2.3</td>\n",
       "      <td>2.0</td>\n",
       "    </tr>\n",
       "    <tr>\n",
       "      <th>149</th>\n",
       "      <td>5.9</td>\n",
       "      <td>3.0</td>\n",
       "      <td>5.1</td>\n",
       "      <td>1.8</td>\n",
       "      <td>2.0</td>\n",
       "    </tr>\n",
       "  </tbody>\n",
       "</table>\n",
       "<p>150 rows × 5 columns</p>\n",
       "</div>"
      ],
      "text/plain": [
       "     Sepal length  Sepal width  Petal length  Petal width  Class\n",
       "0             5.1          3.5           1.4          0.2    0.0\n",
       "1             4.9          3.0           1.4          0.2    0.0\n",
       "2             4.7          3.2           1.3          0.2    0.0\n",
       "3             4.6          3.1           1.5          0.2    0.0\n",
       "4             5.0          3.6           1.4          0.2    0.0\n",
       "..            ...          ...           ...          ...    ...\n",
       "145           6.7          3.0           5.2          2.3    2.0\n",
       "146           6.3          2.5           5.0          1.9    2.0\n",
       "147           6.5          3.0           5.2          2.0    2.0\n",
       "148           6.2          3.4           5.4          2.3    2.0\n",
       "149           5.9          3.0           5.1          1.8    2.0\n",
       "\n",
       "[150 rows x 5 columns]"
      ]
     },
     "execution_count": 7,
     "metadata": {},
     "output_type": "execute_result"
    }
   ],
   "source": [
    "iris.loc[:, 'Sepal length':].astype(float)"
   ]
  },
  {
   "cell_type": "markdown",
   "metadata": {},
   "source": [
    "### Convert DataFrame to List"
   ]
  },
  {
   "cell_type": "code",
   "execution_count": 8,
   "metadata": {},
   "outputs": [
    {
     "data": {
      "text/plain": [
       "[[5.1, 3.5, 1.4, 0.2, 0.0],\n",
       " [4.9, 3.0, 1.4, 0.2, 0.0],\n",
       " [4.7, 3.2, 1.3, 0.2, 0.0],\n",
       " [4.6, 3.1, 1.5, 0.2, 0.0],\n",
       " [5.0, 3.6, 1.4, 0.2, 0.0],\n",
       " [5.4, 3.9, 1.7, 0.4, 0.0],\n",
       " [4.6, 3.4, 1.4, 0.3, 0.0],\n",
       " [5.0, 3.4, 1.5, 0.2, 0.0],\n",
       " [4.4, 2.9, 1.4, 0.2, 0.0],\n",
       " [4.9, 3.1, 1.5, 0.1, 0.0],\n",
       " [5.4, 3.7, 1.5, 0.2, 0.0],\n",
       " [4.8, 3.4, 1.6, 0.2, 0.0],\n",
       " [4.8, 3.0, 1.4, 0.1, 0.0],\n",
       " [4.3, 3.0, 1.1, 0.1, 0.0],\n",
       " [5.8, 4.0, 1.2, 0.2, 0.0],\n",
       " [5.7, 4.4, 1.5, 0.4, 0.0],\n",
       " [5.4, 3.9, 1.3, 0.4, 0.0],\n",
       " [5.1, 3.5, 1.4, 0.3, 0.0],\n",
       " [5.7, 3.8, 1.7, 0.3, 0.0],\n",
       " [5.1, 3.8, 1.5, 0.3, 0.0],\n",
       " [5.4, 3.4, 1.7, 0.2, 0.0],\n",
       " [5.1, 3.7, 1.5, 0.4, 0.0],\n",
       " [4.6, 3.6, 1.0, 0.2, 0.0],\n",
       " [5.1, 3.3, 1.7, 0.5, 0.0],\n",
       " [4.8, 3.4, 1.9, 0.2, 0.0],\n",
       " [5.0, 3.0, 1.6, 0.2, 0.0],\n",
       " [5.0, 3.4, 1.6, 0.4, 0.0],\n",
       " [5.2, 3.5, 1.5, 0.2, 0.0],\n",
       " [5.2, 3.4, 1.4, 0.2, 0.0],\n",
       " [4.7, 3.2, 1.6, 0.2, 0.0],\n",
       " [4.8, 3.1, 1.6, 0.2, 0.0],\n",
       " [5.4, 3.4, 1.5, 0.4, 0.0],\n",
       " [5.2, 4.1, 1.5, 0.1, 0.0],\n",
       " [5.5, 4.2, 1.4, 0.2, 0.0],\n",
       " [4.9, 3.1, 1.5, 0.1, 0.0],\n",
       " [5.0, 3.2, 1.2, 0.2, 0.0],\n",
       " [5.5, 3.5, 1.3, 0.2, 0.0],\n",
       " [4.9, 3.1, 1.5, 0.1, 0.0],\n",
       " [4.4, 3.0, 1.3, 0.2, 0.0],\n",
       " [5.1, 3.4, 1.5, 0.2, 0.0],\n",
       " [5.0, 3.5, 1.3, 0.3, 0.0],\n",
       " [4.5, 2.3, 1.3, 0.3, 0.0],\n",
       " [4.4, 3.2, 1.3, 0.2, 0.0],\n",
       " [5.0, 3.5, 1.6, 0.6, 0.0],\n",
       " [5.1, 3.8, 1.9, 0.4, 0.0],\n",
       " [4.8, 3.0, 1.4, 0.3, 0.0],\n",
       " [5.1, 3.8, 1.6, 0.2, 0.0],\n",
       " [4.6, 3.2, 1.4, 0.2, 0.0],\n",
       " [5.3, 3.7, 1.5, 0.2, 0.0],\n",
       " [5.0, 3.3, 1.4, 0.2, 0.0],\n",
       " [7.0, 3.2, 4.7, 1.4, 1.0],\n",
       " [6.4, 3.2, 4.5, 1.5, 1.0],\n",
       " [6.9, 3.1, 4.9, 1.5, 1.0],\n",
       " [5.5, 2.3, 4.0, 1.3, 1.0],\n",
       " [6.5, 2.8, 4.6, 1.5, 1.0],\n",
       " [5.7, 2.8, 4.5, 1.3, 1.0],\n",
       " [6.3, 3.3, 4.7, 1.6, 1.0],\n",
       " [4.9, 2.4, 3.3, 1.0, 1.0],\n",
       " [6.6, 2.9, 4.6, 1.3, 1.0],\n",
       " [5.2, 2.7, 3.9, 1.4, 1.0],\n",
       " [5.0, 2.0, 3.5, 1.0, 1.0],\n",
       " [5.9, 3.0, 4.2, 1.5, 1.0],\n",
       " [6.0, 2.2, 4.0, 1.0, 1.0],\n",
       " [6.1, 2.9, 4.7, 1.4, 1.0],\n",
       " [5.6, 2.9, 3.6, 1.3, 1.0],\n",
       " [6.7, 3.1, 4.4, 1.4, 1.0],\n",
       " [5.6, 3.0, 4.5, 1.5, 1.0],\n",
       " [5.8, 2.7, 4.1, 1.0, 1.0],\n",
       " [6.2, 2.2, 4.5, 1.5, 1.0],\n",
       " [5.6, 2.5, 3.9, 1.1, 1.0],\n",
       " [5.9, 3.2, 4.8, 1.8, 1.0],\n",
       " [6.1, 2.8, 4.0, 1.3, 1.0],\n",
       " [6.3, 2.5, 4.9, 1.5, 1.0],\n",
       " [6.1, 2.8, 4.7, 1.2, 1.0],\n",
       " [6.4, 2.9, 4.3, 1.3, 1.0],\n",
       " [6.6, 3.0, 4.4, 1.4, 1.0],\n",
       " [6.8, 2.8, 4.8, 1.4, 1.0],\n",
       " [6.7, 3.0, 5.0, 1.7, 1.0],\n",
       " [6.0, 2.9, 4.5, 1.5, 1.0],\n",
       " [5.7, 2.6, 3.5, 1.0, 1.0],\n",
       " [5.5, 2.4, 3.8, 1.1, 1.0],\n",
       " [5.5, 2.4, 3.7, 1.0, 1.0],\n",
       " [5.8, 2.7, 3.9, 1.2, 1.0],\n",
       " [6.0, 2.7, 5.1, 1.6, 1.0],\n",
       " [5.4, 3.0, 4.5, 1.5, 1.0],\n",
       " [6.0, 3.4, 4.5, 1.6, 1.0],\n",
       " [6.7, 3.1, 4.7, 1.5, 1.0],\n",
       " [6.3, 2.3, 4.4, 1.3, 1.0],\n",
       " [5.6, 3.0, 4.1, 1.3, 1.0],\n",
       " [5.5, 2.5, 4.0, 1.3, 1.0],\n",
       " [5.5, 2.6, 4.4, 1.2, 1.0],\n",
       " [6.1, 3.0, 4.6, 1.4, 1.0],\n",
       " [5.8, 2.6, 4.0, 1.2, 1.0],\n",
       " [5.0, 2.3, 3.3, 1.0, 1.0],\n",
       " [5.6, 2.7, 4.2, 1.3, 1.0],\n",
       " [5.7, 3.0, 4.2, 1.2, 1.0],\n",
       " [5.7, 2.9, 4.2, 1.3, 1.0],\n",
       " [6.2, 2.9, 4.3, 1.3, 1.0],\n",
       " [5.1, 2.5, 3.0, 1.1, 1.0],\n",
       " [5.7, 2.8, 4.1, 1.3, 1.0],\n",
       " [6.3, 3.3, 6.0, 2.5, 2.0],\n",
       " [5.8, 2.7, 5.1, 1.9, 2.0],\n",
       " [7.1, 3.0, 5.9, 2.1, 2.0],\n",
       " [6.3, 2.9, 5.6, 1.8, 2.0],\n",
       " [6.5, 3.0, 5.8, 2.2, 2.0],\n",
       " [7.6, 3.0, 6.6, 2.1, 2.0],\n",
       " [4.9, 2.5, 4.5, 1.7, 2.0],\n",
       " [7.3, 2.9, 6.3, 1.8, 2.0],\n",
       " [6.7, 2.5, 5.8, 1.8, 2.0],\n",
       " [7.2, 3.6, 6.1, 2.5, 2.0],\n",
       " [6.5, 3.2, 5.1, 2.0, 2.0],\n",
       " [6.4, 2.7, 5.3, 1.9, 2.0],\n",
       " [6.8, 3.0, 5.5, 2.1, 2.0],\n",
       " [5.7, 2.5, 5.0, 2.0, 2.0],\n",
       " [5.8, 2.8, 5.1, 2.4, 2.0],\n",
       " [6.4, 3.2, 5.3, 2.3, 2.0],\n",
       " [6.5, 3.0, 5.5, 1.8, 2.0],\n",
       " [7.7, 3.8, 6.7, 2.2, 2.0],\n",
       " [7.7, 2.6, 6.9, 2.3, 2.0],\n",
       " [6.0, 2.2, 5.0, 1.5, 2.0],\n",
       " [6.9, 3.2, 5.7, 2.3, 2.0],\n",
       " [5.6, 2.8, 4.9, 2.0, 2.0],\n",
       " [7.7, 2.8, 6.7, 2.0, 2.0],\n",
       " [6.3, 2.7, 4.9, 1.8, 2.0],\n",
       " [6.7, 3.3, 5.7, 2.1, 2.0],\n",
       " [7.2, 3.2, 6.0, 1.8, 2.0],\n",
       " [6.2, 2.8, 4.8, 1.8, 2.0],\n",
       " [6.1, 3.0, 4.9, 1.8, 2.0],\n",
       " [6.4, 2.8, 5.6, 2.1, 2.0],\n",
       " [7.2, 3.0, 5.8, 1.6, 2.0],\n",
       " [7.4, 2.8, 6.1, 1.9, 2.0],\n",
       " [7.9, 3.8, 6.4, 2.0, 2.0],\n",
       " [6.4, 2.8, 5.6, 2.2, 2.0],\n",
       " [6.3, 2.8, 5.1, 1.5, 2.0],\n",
       " [6.1, 2.6, 5.6, 1.4, 2.0],\n",
       " [7.7, 3.0, 6.1, 2.3, 2.0],\n",
       " [6.3, 3.4, 5.6, 2.4, 2.0],\n",
       " [6.4, 3.1, 5.5, 1.8, 2.0],\n",
       " [6.0, 3.0, 4.8, 1.8, 2.0],\n",
       " [6.9, 3.1, 5.4, 2.1, 2.0],\n",
       " [6.7, 3.1, 5.6, 2.4, 2.0],\n",
       " [6.9, 3.1, 5.1, 2.3, 2.0],\n",
       " [5.8, 2.7, 5.1, 1.9, 2.0],\n",
       " [6.8, 3.2, 5.9, 2.3, 2.0],\n",
       " [6.7, 3.3, 5.7, 2.5, 2.0],\n",
       " [6.7, 3.0, 5.2, 2.3, 2.0],\n",
       " [6.3, 2.5, 5.0, 1.9, 2.0],\n",
       " [6.5, 3.0, 5.2, 2.0, 2.0],\n",
       " [6.2, 3.4, 5.4, 2.3, 2.0],\n",
       " [5.9, 3.0, 5.1, 1.8, 2.0]]"
      ]
     },
     "execution_count": 8,
     "metadata": {},
     "output_type": "execute_result"
    }
   ],
   "source": [
    "iris_list = iris.values.tolist()\n",
    "iris_list"
   ]
  },
  {
   "cell_type": "markdown",
   "metadata": {},
   "source": [
    "# Calculate Distance Formula"
   ]
  },
  {
   "cell_type": "code",
   "execution_count": 9,
   "metadata": {},
   "outputs": [],
   "source": [
    "import math"
   ]
  },
  {
   "cell_type": "markdown",
   "metadata": {},
   "source": [
    "### Euclidean Distance"
   ]
  },
  {
   "cell_type": "code",
   "execution_count": 10,
   "metadata": {},
   "outputs": [],
   "source": [
    "def euclidean_distance(object1, object2): \n",
    "    distance = 0 \n",
    "    for point in range(len(object1) - 1): \n",
    "        distance += (object1[point] - object2[point])**2 \n",
    "    return math.sqrt(distance)"
   ]
  },
  {
   "cell_type": "markdown",
   "metadata": {},
   "source": [
    "### Mahattan Distance"
   ]
  },
  {
   "cell_type": "code",
   "execution_count": 11,
   "metadata": {},
   "outputs": [],
   "source": [
    "def mahattan_distance(object1, object2): \n",
    "    distance = 0 \n",
    "    for point in range(len(object1) - 1): \n",
    "        distance += math.abs(object1[point] - object2[point])\n",
    "    return math.sqrt(distance)"
   ]
  },
  {
   "cell_type": "markdown",
   "metadata": {},
   "source": [
    "### Test"
   ]
  },
  {
   "cell_type": "code",
   "execution_count": 12,
   "metadata": {},
   "outputs": [
    {
     "name": "stdout",
     "output_type": "stream",
     "text": [
      "0.0\n",
      "1.3290173915275787\n",
      "1.9494646655653247\n",
      "1.5591439385540549\n",
      "0.5356280721938492\n",
      "4.850940186986411\n",
      "2.592833759950511\n",
      "4.214227042632867\n",
      "6.522409988228337\n",
      "4.985585382449795\n"
     ]
    }
   ],
   "source": [
    "dataset = [[2.7810836,2.550537003,0],\n",
    "    [1.465489372,2.362125076,0],\n",
    "    [3.396561688,4.400293529,0],\n",
    "    [1.38807019,1.850220317,0],\n",
    "    [3.06407232,3.005305973,0],\n",
    "    [7.627531214,2.759262235,1],\n",
    "    [5.332441248,2.088626775,1],\n",
    "    [6.922596716,1.77106367,1],\n",
    "    [8.675418651,-0.242068655,1],\n",
    "    [7.673756466,3.508563011,1]]\n",
    "\n",
    "for row in dataset:\n",
    "    distance = euclidean_distance(dataset[0], row)\n",
    "    print(distance)"
   ]
  },
  {
   "cell_type": "markdown",
   "metadata": {},
   "source": [
    "# Get Nearest Neighbors"
   ]
  },
  {
   "cell_type": "code",
   "execution_count": 13,
   "metadata": {},
   "outputs": [],
   "source": [
    "def get_neighbors(train, test_row, num_neighbors): \n",
    "    # create a list to store distances\n",
    "    distances = list()\n",
    "    # run every element in training set\n",
    "    for train_row in train: \n",
    "        # calculate distance for every points in training set with test one\n",
    "        dist = euclidean_distance(test_row, train_row)\n",
    "        # append distance and its name to the distances list in form of tuple\n",
    "        distances.append((train_row, dist))\n",
    "        # sort based on the distance\n",
    "        distances.sort(key = lambda tup : tup[1])\n",
    "        # create the list of nearest neighbor\n",
    "        neighbors = list()\n",
    "        # append num_neighbors neighbors with its name\n",
    "    for i in range(num_neighbors): \n",
    "        neighbors.append(distances[i][0])\n",
    "    return neighbors"
   ]
  },
  {
   "cell_type": "markdown",
   "metadata": {},
   "source": [
    "### Test"
   ]
  },
  {
   "cell_type": "code",
   "execution_count": 14,
   "metadata": {},
   "outputs": [
    {
     "name": "stdout",
     "output_type": "stream",
     "text": [
      "[2.7810836, 2.550537003, 0]\n",
      "[3.06407232, 3.005305973, 0]\n",
      "[1.465489372, 2.362125076, 0]\n"
     ]
    }
   ],
   "source": [
    "dataset = [[2.7810836,2.550537003,0],\n",
    "    [1.465489372,2.362125076,0],\n",
    "    [3.396561688,4.400293529,0],\n",
    "    [1.38807019,1.850220317,0],\n",
    "    [3.06407232,3.005305973,0],\n",
    "    [7.627531214,2.759262235,1],\n",
    "    [5.332441248,2.088626775,1],\n",
    "    [6.922596716,1.77106367,1],\n",
    "    [8.675418651,-0.242068655,1],\n",
    "    [7.673756466,3.508563011,1]]\n",
    "\n",
    "neighbors = get_neighbors(dataset, dataset[0], 3)\n",
    "for neighbor in neighbors:\n",
    "    print(neighbor)"
   ]
  },
  {
   "cell_type": "markdown",
   "metadata": {},
   "source": [
    "# Prediction"
   ]
  },
  {
   "cell_type": "code",
   "execution_count": 15,
   "metadata": {},
   "outputs": [],
   "source": [
    "def predict_class(train, test_row, num_neighbors): \n",
    "    # create a list of neighbors\n",
    "    neighbors = get_neighbors(train, test_row, num_neighbors)\n",
    "    # create a list of output value\n",
    "    output_value = [row[-1] for row in neighbors]\n",
    "    # make prediction based on output values\n",
    "    prediction = max(set(output_value), key = output_value.count)\n",
    "    return prediction"
   ]
  },
  {
   "cell_type": "markdown",
   "metadata": {},
   "source": [
    "### Test"
   ]
  },
  {
   "cell_type": "code",
   "execution_count": 16,
   "metadata": {},
   "outputs": [
    {
     "name": "stdout",
     "output_type": "stream",
     "text": [
      "Expected 0, Got 0.\n"
     ]
    }
   ],
   "source": [
    "dataset = [[2.7810836,2.550537003,0],\n",
    "    [1.465489372,2.362125076,0],\n",
    "    [3.396561688,4.400293529,0],\n",
    "    [1.38807019,1.850220317,0],\n",
    "    [3.06407232,3.005305973,0],\n",
    "    [7.627531214,2.759262235,1],\n",
    "    [5.332441248,2.088626775,1],\n",
    "    [6.922596716,1.77106367,1],\n",
    "    [8.675418651,-0.242068655,1],\n",
    "    [7.673756466,3.508563011,1]]\n",
    "\n",
    "prediction = predict_class(dataset, dataset[0], 3)\n",
    "print('Expected %d, Got %d.' % (dataset[0][-1], prediction))"
   ]
  },
  {
   "cell_type": "markdown",
   "metadata": {},
   "source": [
    "# Implementation"
   ]
  },
  {
   "cell_type": "markdown",
   "metadata": {},
   "source": [
    "### Create values"
   ]
  },
  {
   "cell_type": "code",
   "execution_count": 17,
   "metadata": {},
   "outputs": [],
   "source": [
    "test_value = iris_list[2]\n",
    "num_neighbors = 4\n",
    "dataset = iris_list"
   ]
  },
  {
   "cell_type": "markdown",
   "metadata": {},
   "source": [
    "### Run prediction"
   ]
  },
  {
   "cell_type": "code",
   "execution_count": 18,
   "metadata": {},
   "outputs": [
    {
     "name": "stdout",
     "output_type": "stream",
     "text": [
      "Expected 0, Got 0.\n"
     ]
    }
   ],
   "source": [
    "prediction = predict_class(dataset, test_value, num_neighbors)\n",
    "print('Expected %d, Got %d.' % (dataset[0][-1], prediction))"
   ]
  }
 ],
 "metadata": {
  "kernelspec": {
   "display_name": "Nam",
   "language": "python",
   "name": "python3"
  },
  "language_info": {
   "codemirror_mode": {
    "name": "ipython",
    "version": 3
   },
   "file_extension": ".py",
   "mimetype": "text/x-python",
   "name": "python",
   "nbconvert_exporter": "python",
   "pygments_lexer": "ipython3",
   "version": "3.12.2"
  }
 },
 "nbformat": 4,
 "nbformat_minor": 2
}
