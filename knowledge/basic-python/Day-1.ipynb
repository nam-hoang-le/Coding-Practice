{
 "cells": [
  {
   "cell_type": "code",
   "execution_count": 3,
   "metadata": {},
   "outputs": [],
   "source": [
    "# problem 1: find max value of 3 numbers "
   ]
  },
  {
   "cell_type": "code",
   "execution_count": 1,
   "metadata": {},
   "outputs": [],
   "source": [
    "# step 1: take a number as max variable \n",
    "# step 2: compare with other numbers \n",
    "# step 3: if number greater than max -> change max variable \n",
    "# step 4: return max  "
   ]
  },
  {
   "cell_type": "code",
   "execution_count": 4,
   "metadata": {},
   "outputs": [
    {
     "name": "stdout",
     "output_type": "stream",
     "text": [
      "3\n",
      "6\n"
     ]
    }
   ],
   "source": [
    "# way 1: use if \n",
    "def find_max_value(a, b, c): \n",
    "    maxVal = a \n",
    "    if b > maxVal: \n",
    "        maxVal = b \n",
    "    if c > maxVal: \n",
    "        maxVal = c \n",
    "    return maxVal \n",
    "\n",
    "#TESTING\n",
    "#=======\n",
    "\n",
    "# test case 1\n",
    "a = 1 \n",
    "b = 2 \n",
    "c = 3 \n",
    "print(find_max_value(a, b, c))\n",
    "\n",
    "# test case 2 \n",
    "a = 4 \n",
    "b = 6 \n",
    "c = 3 \n",
    "print(find_max_value(a, b, c))"
   ]
  },
  {
   "cell_type": "code",
   "execution_count": 9,
   "metadata": {},
   "outputs": [
    {
     "name": "stdout",
     "output_type": "stream",
     "text": [
      "3.0\n",
      "6.0\n"
     ]
    }
   ],
   "source": [
    "# way 2: use abs instead of if\n",
    "def find_max_value(a, b, c): \n",
    "    maxTwo = (a + b + abs(a - b))/2\n",
    "    maxThree = (c + maxTwo + abs(maxTwo - c))/2\n",
    "    return maxThree\n",
    "\n",
    "#TESTING\n",
    "#=======\n",
    "\n",
    "# test case 1\n",
    "a = 1 \n",
    "b = 2 \n",
    "c = 3 \n",
    "print(find_max_value(a, b, c))\n",
    "\n",
    "# test case 2 \n",
    "a = 4 \n",
    "b = 6 \n",
    "c = 3 \n",
    "print(find_max_value(a, b, c))"
   ]
  },
  {
   "cell_type": "code",
   "execution_count": 27,
   "metadata": {},
   "outputs": [
    {
     "data": {
      "text/plain": [
       "5"
      ]
     },
     "execution_count": 27,
     "metadata": {},
     "output_type": "execute_result"
    }
   ],
   "source": [
    "a = 5\n",
    "b = 4\n",
    "c = 3 \n",
    "\n",
    "(a > b) and (a > c and a or c) or c > b and c or b"
   ]
  },
  {
   "cell_type": "code",
   "execution_count": 28,
   "metadata": {},
   "outputs": [
    {
     "data": {
      "text/plain": [
       "True"
      ]
     },
     "execution_count": 28,
     "metadata": {},
     "output_type": "execute_result"
    }
   ],
   "source": [
    "True or 1"
   ]
  },
  {
   "cell_type": "code",
   "execution_count": 29,
   "metadata": {},
   "outputs": [
    {
     "data": {
      "text/plain": [
       "1"
      ]
     },
     "execution_count": 29,
     "metadata": {},
     "output_type": "execute_result"
    }
   ],
   "source": [
    "False or 1"
   ]
  },
  {
   "cell_type": "code",
   "execution_count": 30,
   "metadata": {},
   "outputs": [
    {
     "name": "stdout",
     "output_type": "stream",
     "text": [
      "3\n",
      "6\n"
     ]
    }
   ],
   "source": [
    "# Way 3: Boolean \n",
    "def find_max_value(a, b, c): \n",
    "    return (a > b) and (a > c and a or c) or (c > b) and c or b \n",
    "\n",
    "#TESTING\n",
    "#=======\n",
    "\n",
    "# test case 1\n",
    "a = 1 \n",
    "b = 2 \n",
    "c = 3 \n",
    "print(find_max_value(a, b, c))\n",
    "\n",
    "# test case 2 \n",
    "a = 4 \n",
    "b = 6 \n",
    "c = 3 \n",
    "print(find_max_value(a, b, c))"
   ]
  },
  {
   "cell_type": "code",
   "execution_count": 35,
   "metadata": {},
   "outputs": [
    {
     "name": "stdout",
     "output_type": "stream",
     "text": [
      "b: 2\n",
      "a: 1\n",
      "b: 6\n",
      "a: 4\n"
     ]
    }
   ],
   "source": [
    "# Cho 2 số a,b hãy đổi giá trị của 2 số cho nhau (theo 2 cách: 1 xài biến tạm, 2 không xài biến tạm)\n",
    "# Way 1 \n",
    "def swap(a, b): \n",
    "    temp = a\n",
    "    a = b \n",
    "    b = temp\n",
    "    print(\"b:\", a)\n",
    "    print(\"a:\", b)\n",
    "\n",
    "#TESTING\n",
    "#=======\n",
    "\n",
    "# test case 1\n",
    "a = 1 \n",
    "b = 2 \n",
    "swap(a, b)\n",
    "\n",
    "# test case 2 \n",
    "a = 4 \n",
    "b = 6 \n",
    "swap(a, b)"
   ]
  },
  {
   "cell_type": "code",
   "execution_count": 43,
   "metadata": {},
   "outputs": [
    {
     "name": "stdout",
     "output_type": "stream",
     "text": [
      "a: 2\n",
      "b 1\n",
      "a: 6\n",
      "b 4\n"
     ]
    }
   ],
   "source": [
    "# Way 2 \n",
    "def swap(a, b): \n",
    "    a = a - b \n",
    "    b = b + a\n",
    "    a = b - a\n",
    "    print(\"a:\", a)\n",
    "    print(\"b\", b)\n",
    "\n",
    "\n",
    "#TESTING\n",
    "#=======\n",
    "\n",
    "# test case 1\n",
    "a = 1 \n",
    "b = 2 \n",
    "swap(a, b)\n",
    "\n",
    "# test case 2 \n",
    "a = 4 \n",
    "b = 6 \n",
    "swap(a, b)"
   ]
  },
  {
   "cell_type": "code",
   "execution_count": 45,
   "metadata": {},
   "outputs": [
    {
     "name": "stdout",
     "output_type": "stream",
     "text": [
      "True\n",
      "False\n"
     ]
    }
   ],
   "source": [
    "# Nhập vào 1 số bất kỳ, kiểm tra số đó có phải số nguyên tố hay không\n",
    "import math\n",
    "def is_prime(numb):\n",
    "    is_prime = True\n",
    "\n",
    "    for i in range(2, int(math.sqrt(numb))+1): \n",
    "        if numb % i == 0: \n",
    "            is_prime = False \n",
    "    return is_prime\n",
    "\n",
    "#TESTING\n",
    "#=======\n",
    "\n",
    "# test case 1\n",
    "numb = 3\n",
    "print(is_prime(numb))\n",
    "\n",
    "# test case 2 \n",
    "numb = 4\n",
    "print(is_prime(numb))"
   ]
  },
  {
   "cell_type": "code",
   "execution_count": 1,
   "metadata": {},
   "outputs": [
    {
     "data": {
      "text/plain": [
       "5"
      ]
     },
     "execution_count": 1,
     "metadata": {},
     "output_type": "execute_result"
    }
   ],
   "source": [
    "# Cho số bất kỳ từ 2 chữ số trở lên, hãy thực hiện tính tổng các chữ số trong số đó tới khi thu dc 1 số có 1 chữ số\n",
    "# Ví dụ: 129 = 1 + 2 + 9 = 12 = 1 + 2 = 3\n",
    "\n",
    "def total_digit(numb): \n",
    "    while numb % 10 != 0: \n",
    "        numb += numb % 10 \n",
    "        numb //= 10\n",
    "        "
   ]
  },
  {
   "cell_type": "code",
   "execution_count": 25,
   "metadata": {},
   "outputs": [
    {
     "data": {
      "text/plain": [
       "[1, 2, 3, 5, 6, 8, 10, 20, 50]"
      ]
     },
     "execution_count": 25,
     "metadata": {},
     "output_type": "execute_result"
    }
   ],
   "source": [
    "# Cho list sau: lst_data = [10, 1, 2, 5, 3, 6, 8, 20, 50], hãy sắp xếp list theo thứ tự tăng dần (không dùng hàm có sẵn)\n",
    "lst_data = [10, 1, 2, 5, 3, 6, 8, 20, 50]\n",
    "\n",
    "for idx in range(len(lst_data)): \n",
    "    for idx1 in range(idx, 0, -1): \n",
    "        if lst_data[idx1] < lst_data[idx1 - 1]: \n",
    "            lst_data[idx1], lst_data[idx1 - 1] = lst_data[idx1 - 1], lst_data[idx1]\n",
    "lst_data"
   ]
  },
  {
   "cell_type": "code",
   "execution_count": 28,
   "metadata": {},
   "outputs": [
    {
     "name": "stdout",
     "output_type": "stream",
     "text": [
      "ReLU:\n",
      "1\n",
      "2\n",
      "3\n",
      "5\n",
      "6\n",
      "8\n",
      "10\n",
      "20\n",
      "50\n",
      "sigmoid:\n",
      "0.7310585786300049\n",
      "0.8807970779778823\n",
      "0.9525741268224334\n",
      "0.9933071490757153\n",
      "0.9975273768433653\n",
      "0.9996646498695336\n",
      "0.9999546021312976\n",
      "0.9999999979388463\n",
      "1.0\n",
      "tanh:\n",
      "1\n",
      "2\n",
      "3\n",
      "5\n",
      "6\n",
      "8\n",
      "10\n",
      "20\n",
      "50\n",
      "LeakyReLU:\n",
      "0.7310585786300049\n",
      "0.8807970779778823\n",
      "0.9525741268224334\n",
      "0.9933071490757153\n",
      "0.9975273768433653\n",
      "0.9996646498695336\n",
      "0.9999546021312976\n",
      "0.9999999979388463\n",
      "1.0\n"
     ]
    }
   ],
   "source": [
    "# Cho list sau: lst_data = [1, 2, 3, 0, -1, 2, 3, 1]. \n",
    "# Hãy cài đặt các hàm ReLU, sigmoid, tanh, LeakyReLU cho lst_data\n",
    "import math\n",
    "def ReLU(x): \n",
    "    return max(0, x)\n",
    "\n",
    "def sigmoid(x): \n",
    "    return 1/(1 + math.exp(-x))\n",
    "\n",
    "def tanh(x): \n",
    "    math.tanh(x)\n",
    "\n",
    "def LeakyReLU(x): \n",
    "    return max(0.01*x, x)\n",
    "\n",
    "print(\"ReLU:\")\n",
    "for element in lst_data: \n",
    "    print(ReLU(element))\n",
    "\n",
    "print(\"sigmoid:\")\n",
    "for element in lst_data: \n",
    "    print(sigmoid(element))\n",
    "\n",
    "print(\"tanh:\")\n",
    "for element in lst_data: \n",
    "    print(ReLU(element))\n",
    "\n",
    "print(\"LeakyReLU:\")\n",
    "for element in lst_data: \n",
    "    print(sigmoid(element))"
   ]
  },
  {
   "cell_type": "code",
   "execution_count": 31,
   "metadata": {},
   "outputs": [
    {
     "data": {
      "text/plain": [
       "[1, 3, 7, 5, 7, 6]"
      ]
     },
     "execution_count": 31,
     "metadata": {},
     "output_type": "execute_result"
    }
   ],
   "source": [
    "'''\n",
    "Cho list sau: lst_data = [1, 2, 5, 0, 7, -1]. Hãy tạo ra list với gtri theo quy luật sau:\n",
    "+ giá trị đầu tiên của list mới = giá trị đầu tiên của list cũ\n",
    "+ giá trị tiếp theo bằng giá trị kế tiếp list cũ + giá trị phía trước list cũ\n",
    "\n",
    "Ví dụ:\n",
    "    + Input: lst_data = [1, 2, 5, 0, 7, -1]\n",
    "    + Output: lst_output = [1, 3, 7, 5, 7, 6]\n",
    "'''\n",
    "\n",
    "lst_data = [1, 2, 5, 0, 7, -1]\n",
    "lst_output = [lst_data[idx] + lst_data[idx -1] for idx in range(1, len(lst_data))]\n",
    "lst_output.insert(0, lst_data[0])\n",
    "lst_output"
   ]
  },
  {
   "cell_type": "code",
   "execution_count": 35,
   "metadata": {},
   "outputs": [
    {
     "name": "stdout",
     "output_type": "stream",
     "text": [
      "5\n",
      "1\n"
     ]
    }
   ],
   "source": [
    "\"\"\"\n",
    "Cho list sau: lst_data = [\n",
    "    [1,2,3],\n",
    "    [2,3,5],\n",
    "    [1,2,1]\n",
    "]\n",
    " Hãy tìm số lớn nhất/bé nhất có trong lst_data\n",
    "\"\"\"\n",
    "\n",
    "lst_data = [\n",
    "    [1,2,3],\n",
    "    [2,3,5],\n",
    "    [1,2,1]\n",
    "]\n",
    "\n",
    "def max_lst(lst_data): \n",
    "    max = lst_data[0][0]\n",
    "    for row in lst_data: \n",
    "        for numb in row: \n",
    "            if numb > max: \n",
    "                max = numb \n",
    "    return max \n",
    "\n",
    "def min_lst(lst_data): \n",
    "    min = lst_data[0][0]\n",
    "    for row in lst_data: \n",
    "        for numb in row: \n",
    "            if numb < min: \n",
    "                min = numb \n",
    "    return min\n",
    "\n",
    "print(max_lst(lst_data))\n",
    "print(min_lst(lst_data)) "
   ]
  },
  {
   "cell_type": "code",
   "execution_count": null,
   "metadata": {},
   "outputs": [],
   "source": []
  }
 ],
 "metadata": {
  "kernelspec": {
   "display_name": "Nam",
   "language": "python",
   "name": "python3"
  },
  "language_info": {
   "codemirror_mode": {
    "name": "ipython",
    "version": 3
   },
   "file_extension": ".py",
   "mimetype": "text/x-python",
   "name": "python",
   "nbconvert_exporter": "python",
   "pygments_lexer": "ipython3",
   "version": "3.12.2"
  }
 },
 "nbformat": 4,
 "nbformat_minor": 2
}
